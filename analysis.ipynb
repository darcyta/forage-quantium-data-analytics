{
 "cells": [
  {
   "cell_type": "code",
   "execution_count": 44,
   "metadata": {},
   "outputs": [],
   "source": [
    "#imports\n",
    "import csv\n",
    "from openpyxl import Workbook, load_workbook\n",
    "import matplotlib.pyplot as plt\n",
    "import numpy as np\n",
    "import re\n",
    "import copy"
   ]
  },
  {
   "cell_type": "code",
   "execution_count": 27,
   "metadata": {},
   "outputs": [],
   "source": [
    "# constants\n",
    "PURCHASE_BEHAVIOR_FILE = \"QVI_purchase_behaviour.csv\"\n",
    "TRANSACTION_DATA_FILE = \"QVI_transaction_data.xlsx\""
   ]
  },
  {
   "cell_type": "code",
   "execution_count": 28,
   "metadata": {},
   "outputs": [],
   "source": [
    "# csv column to array\n",
    "# takes a csv filename and column number, optional convert to type\n",
    "def csv_column_to_arr( csv_file, column, convert=str ):\n",
    "  csv_reader = csv.reader( open( csv_file, newline=\"\" ), delimiter=\",\" )\n",
    "  arr = []\n",
    "  i = 0\n",
    "  for row in csv_reader:\n",
    "    if i > 0: # filter first title lines\n",
    "      arr.append( convert( row[ column - 1 ] ) )\n",
    "    i += 1\n",
    "  return arr"
   ]
  },
  {
   "cell_type": "code",
   "execution_count": 29,
   "metadata": {},
   "outputs": [],
   "source": [
    "# xlsx colunm to array\n",
    "# takes a worksheet and column number\n",
    "def xlsx_column_to_arr( ws, column ):\n",
    "  arr = []\n",
    "  row_range = len( tuple( ws.rows ) )\n",
    "  i = 0\n",
    "  for row in ws.iter_rows( min_row=1, max_row=row_range, min_col=column, max_col=column ):\n",
    "    for cell in row:\n",
    "      if i > 0: # filter first title row\n",
    "        arr.append( cell.value )\n",
    "      i += 1\n",
    "  return arr"
   ]
  },
  {
   "cell_type": "code",
   "execution_count": 30,
   "metadata": {},
   "outputs": [],
   "source": [
    "def get_company_names( arr ):\n",
    "  names = []\n",
    "  for i in arr:\n",
    "    names.append( i[ :20 ] )\n",
    "  return names"
   ]
  },
  {
   "cell_type": "code",
   "execution_count": 31,
   "metadata": {},
   "outputs": [],
   "source": [
    "def get_product_types( arr ):\n",
    "  types = []\n",
    "  for i in arr:\n",
    "    types.append( i[ 20:-4 ] )\n",
    "  return types"
   ]
  },
  {
   "cell_type": "code",
   "execution_count": 32,
   "metadata": {},
   "outputs": [],
   "source": [
    "def get_product_amount( arr ):\n",
    "  amounts = []\n",
    "  for i in arr:\n",
    "    res = re.search( \"([0-9][0-9][0-9])g\", i )\n",
    "    if res == None:\n",
    "      amounts.append( 0 )\n",
    "    else:\n",
    "      amounts.append( int( res.group( 0 )[ :-1 ] ) )\n",
    "  return amounts"
   ]
  },
  {
   "cell_type": "code",
   "execution_count": 33,
   "metadata": {},
   "outputs": [],
   "source": [
    "# get data files and load into appropriate libraries\n",
    "purchase_behavior_file = open( PURCHASE_BEHAVIOR_FILE, newline=\"\" )\n",
    "wb = load_workbook( TRANSACTION_DATA_FILE )\n",
    "ws = wb.active"
   ]
  },
  {
   "cell_type": "code",
   "execution_count": 75,
   "metadata": {},
   "outputs": [],
   "source": [
    "# get columns from purchase behavior\n",
    "purchase_behavior = {}\n",
    "purchase_behavior_zip = zip()\n",
    "def get_purchace_behavior():\n",
    "  global purchase_behavior\n",
    "  purchase_behavior = {\n",
    "    \"lylty_card_nbr\": csv_column_to_arr( PURCHASE_BEHAVIOR_FILE, 1, int ),\n",
    "    \"lifestage\": csv_column_to_arr( PURCHASE_BEHAVIOR_FILE, 2 ),\n",
    "    \"premium_customer\": csv_column_to_arr( PURCHASE_BEHAVIOR_FILE, 3 )\n",
    "  }\n",
    "  global purchase_behavior_zip\n",
    "  purchase_behavior_zip = zip(\n",
    "    purchase_behavior[ \"lylty_card_nbr\" ],\n",
    "    purchase_behavior[ \"lifestage\" ],\n",
    "    purchase_behavior[ \"premium_customer\" ] )\n",
    "get_purchace_behavior()"
   ]
  },
  {
   "cell_type": "code",
   "execution_count": 74,
   "metadata": {},
   "outputs": [],
   "source": [
    "# get columns from transaction data\n",
    "transaction_data = {}\n",
    "transaction_data_zip = zip()\n",
    "def get_transaction_data():\n",
    "  global transaction_data\n",
    "  transaction_data = { \n",
    "    \"date\": xlsx_column_to_arr( ws, 1 ),\n",
    "    \"store_nbr\": xlsx_column_to_arr( ws, 2 ),\n",
    "    \"lylty_card\": xlsx_column_to_arr( ws, 3 ),\n",
    "    \"txn_id\": xlsx_column_to_arr( ws, 4 ),\n",
    "    \"prod_nbr\": xlsx_column_to_arr( ws, 5 ),\n",
    "    \"prod_name\": xlsx_column_to_arr( ws, 6 ),\n",
    "    \"prod_qty\": xlsx_column_to_arr( ws, 7 ),\n",
    "    \"tot_sales\": xlsx_column_to_arr( ws, 8 ),\n",
    "    \"prod_comp\": get_company_names( xlsx_column_to_arr( ws, 6 ) ),\n",
    "    \"prod_type\": get_product_types( xlsx_column_to_arr( ws, 6 ) ),\n",
    "    \"prod_amnt\": get_product_amount( xlsx_column_to_arr( ws, 6 ) )\n",
    "    }\n",
    "  global transaction_data_zip\n",
    "  transaction_data_zip = zip( \n",
    "    transaction_data[ \"date\" ], \n",
    "    transaction_data[ \"store_nbr\" ], \n",
    "    transaction_data[ \"lylty_card\" ],\n",
    "    transaction_data[ \"txn_id\" ],\n",
    "    transaction_data[ \"prod_nbr\" ],\n",
    "    transaction_data[ \"prod_name\" ],\n",
    "    transaction_data[ \"prod_qty\" ],\n",
    "    transaction_data[ \"tot_sales\" ],\n",
    "    transaction_data[ \"prod_comp\" ],\n",
    "    transaction_data[ \"prod_type\" ],\n",
    "    transaction_data[ \"prod_amnt\" ] )\n",
    "get_transaction_data()"
   ]
  },
  {
   "cell_type": "code",
   "execution_count": null,
   "metadata": {},
   "outputs": [
    {
     "ename": "KeyError",
     "evalue": "'date'",
     "output_type": "error",
     "traceback": [
      "\u001b[1;31m---------------------------------------------------------------------------\u001b[0m",
      "\u001b[1;31mKeyError\u001b[0m                                  Traceback (most recent call last)",
      "\u001b[1;32mc:\\Users\\darcy\\Documents\\shared\\quantium-data-analytics\\analysis.ipynb Cell 11\u001b[0m in \u001b[0;36m<module>\u001b[1;34m\u001b[0m\n\u001b[0;32m      <a href='vscode-notebook-cell:/c%3A/Users/darcy/Documents/shared/quantium-data-analytics/analysis.ipynb#X13sZmlsZQ%3D%3D?line=1'>2</a>\u001b[0m transaction_data_most_popular \u001b[39m=\u001b[39m []\n\u001b[0;32m      <a href='vscode-notebook-cell:/c%3A/Users/darcy/Documents/shared/quantium-data-analytics/analysis.ipynb#X13sZmlsZQ%3D%3D?line=2'>3</a>\u001b[0m transaction_data_zip_list \u001b[39m=\u001b[39m \u001b[39mlist\u001b[39m( transaction_data_zip )\n\u001b[1;32m----> <a href='vscode-notebook-cell:/c%3A/Users/darcy/Documents/shared/quantium-data-analytics/analysis.ipynb#X13sZmlsZQ%3D%3D?line=3'>4</a>\u001b[0m \u001b[39mfor\u001b[39;00m i \u001b[39min\u001b[39;00m \u001b[39mrange\u001b[39m( \u001b[39m0\u001b[39m, \u001b[39mlen\u001b[39m( transaction_data[ \u001b[39m\"\u001b[39;49m\u001b[39mdate\u001b[39;49m\u001b[39m\"\u001b[39;49m ] ) ):\n\u001b[0;32m      <a href='vscode-notebook-cell:/c%3A/Users/darcy/Documents/shared/quantium-data-analytics/analysis.ipynb#X13sZmlsZQ%3D%3D?line=4'>5</a>\u001b[0m   found_in \u001b[39m=\u001b[39m \u001b[39mFalse\u001b[39;00m\n\u001b[0;32m      <a href='vscode-notebook-cell:/c%3A/Users/darcy/Documents/shared/quantium-data-analytics/analysis.ipynb#X13sZmlsZQ%3D%3D?line=5'>6</a>\u001b[0m   \u001b[39mfor\u001b[39;00m j \u001b[39min\u001b[39;00m transaction_data_most_popular:\n",
      "\u001b[1;31mKeyError\u001b[0m: 'date'"
     ]
    }
   ],
   "source": [
    "# find most popular types\n",
    "transaction_data_most_popular = []\n",
    "transaction_data_zip_list = list( transaction_data_zip )\n",
    "for i in range( 0, len( transaction_data[ \"date\" ] ) ):\n",
    "  found_in = False\n",
    "  for j in transaction_data_most_popular:\n",
    "    if transaction_data[ \"prod_nbr\" ][ i ] == j[ 0 ][ 4 ]:\n",
    "      j[ 1 ] += transaction_data[ \"prod_qty\" ][ i ]\n",
    "      found_in = True\n",
    "  if not found_in:\n",
    "    transaction_data_most_popular.append( [ transaction_data_zip_list[ i ], transaction_data[ \"prod_qty\" ][ i ] ] ) \n",
    "transaction_data_most_popular_sorted = sorted( transaction_data_most_popular, key=lambda x: x[ 1 ] )\n",
    "print( transaction_data_most_popular_sorted[ len( transaction_data_most_popular_sorted ) - 1 ] )\n",
    "print( transaction_data_most_popular_sorted[ len( transaction_data_most_popular_sorted ) - 2 ] )\n",
    "print( transaction_data_most_popular_sorted[ len( transaction_data_most_popular_sorted ) - 3 ] )\n",
    "print( transaction_data_most_popular_sorted[ len( transaction_data_most_popular_sorted ) - 4 ] )\n",
    "print( transaction_data_most_popular_sorted[ len( transaction_data_most_popular_sorted ) - 5 ] )\n"
   ]
  },
  {
   "cell_type": "code",
   "execution_count": null,
   "metadata": {},
   "outputs": [
    {
     "name": "stdout",
     "output_type": "stream",
     "text": [
      "[(43604, 115, 115381, 118981, 29, 'French Fries Potato Chips 175g', 1, 3, 'French Fries Potato ', 'Chips ', 175), 2643]\n",
      "[(43600, 197, 197172, 197097, 72, 'WW Crinkle Cut      Original 175g', 1, 1.7, 'WW Crinkle Cut      ', 'Original ', 175), 2666]\n",
      "[(43326, 22, 22411, 18646, 98, 'NCC Sour Cream &    Garden Chives 175g', 1, 3, 'NCC Sour Cream &    ', 'Garden Chives ', 175), 2682]\n"
     ]
    }
   ],
   "source": [
    "# least popular\n",
    "print( transaction_data_most_popular_sorted[ 0 ] )\n",
    "print( transaction_data_most_popular_sorted[ 1 ] )\n",
    "print( transaction_data_most_popular_sorted[ 2 ] )"
   ]
  },
  {
   "cell_type": "code",
   "execution_count": null,
   "metadata": {},
   "outputs": [
    {
     "name": "stdout",
     "output_type": "stream",
     "text": [
      "[(43601, 149, 149225, 148901, 77, 'Doritos Corn Chips  Nacho Cheese 170g', 1, 4.4, 'Doritos Corn Chips  ', 'Nacho Cheese ', 170), 6037]\n",
      "[(43327, 94, 94233, 93956, 65, 'Old El Paso Salsa   Dip Chnky Tom Ht300g', 1, 5.1, 'Old El Paso Salsa   ', 'Dip Chnky Tom Ht', 300), 5986]\n",
      "[(43327, 116, 116184, 120270, 59, 'Old El Paso Salsa   Dip Tomato Med 300g', 1, 5.1, 'Old El Paso Salsa   ', 'Dip Tomato Med ', 300), 5929]\n",
      "[(43604, 4, 4074, 2982, 57, 'Old El Paso Salsa   Dip Tomato Mild 300g', 1, 5.1, 'Old El Paso Salsa   ', 'Dip Tomato Mild ', 300), 5890]\n",
      "[(43599, 1, 1307, 348, 66, 'CCs Nacho Cheese    175g', 3, 6.3, 'CCs Nacho Cheese    ', '', 175), 2839]\n"
     ]
    }
   ],
   "source": [
    "# find most popular dip (Nacho Cheese, Salsa)\n",
    "transaction_data_most_popular_dip_sorted = []\n",
    "for i in transaction_data_most_popular_sorted:\n",
    "  prod_name = i[ 0 ][ 5 ]\n",
    "  if prod_name.find( \"Nacho Cheese\" ) != -1 or prod_name.find( \"Salsa\" ) != -1:\n",
    "    transaction_data_most_popular_dip_sorted.append( i )\n",
    "print( transaction_data_most_popular_dip_sorted[ len( transaction_data_most_popular_dip_sorted ) - 1 ] )\n",
    "print( transaction_data_most_popular_dip_sorted[ len( transaction_data_most_popular_dip_sorted ) - 2 ] )\n",
    "print( transaction_data_most_popular_dip_sorted[ len( transaction_data_most_popular_dip_sorted ) - 3 ] )\n",
    "print( transaction_data_most_popular_dip_sorted[ len( transaction_data_most_popular_dip_sorted ) - 4 ] )\n",
    "print( transaction_data_most_popular_dip_sorted[ len( transaction_data_most_popular_dip_sorted ) - 5 ] )\n"
   ]
  },
  {
   "cell_type": "code",
   "execution_count": null,
   "metadata": {},
   "outputs": [],
   "source": [
    "# find most popular with a string, list should be transaction_data_most_popular_sorted\n",
    "def find_most_popular( string, list ):\n",
    "  most_popular = []\n",
    "  for i in list:\n",
    "    prod_name = i[ 0 ][ 5 ]\n",
    "    if prod_name.find( string ) != -1:\n",
    "      most_popular.append( i )\n",
    "  return most_popular"
   ]
  },
  {
   "cell_type": "code",
   "execution_count": null,
   "metadata": {},
   "outputs": [
    {
     "name": "stdout",
     "output_type": "stream",
     "text": [
      "[(43605, 55, 55073, 48887, 4, 'Dorito Corn Chp     Supreme 380g', 1, 3.25, 'Dorito Corn Chp     ', 'Supreme ', 380), 6509]\n",
      "[(43332, 118, 118007, 120727, 30, 'Doritos Corn Chips  Cheese Supreme 170g', 1, 4.4, 'Doritos Corn Chips  ', 'Cheese Supreme ', 170), 6180]\n",
      "[(43332, 5, 5026, 4525, 42, 'Doritos Corn Chip Mexican Jalapeno 150g', 1, 3.9, 'Doritos Corn Chip Me', 'xican Jalapeno ', 150), 6125]\n"
     ]
    }
   ],
   "source": [
    "# find most popular doritos\n",
    "transaction_data_most_popular_doritos_sorted = find_most_popular( \"Dorito\", transaction_data_most_popular_sorted )\n",
    "print( transaction_data_most_popular_doritos_sorted[ len( transaction_data_most_popular_doritos_sorted ) - 1 ] )\n",
    "print( transaction_data_most_popular_doritos_sorted[ len( transaction_data_most_popular_doritos_sorted ) - 2 ] )\n",
    "print( transaction_data_most_popular_doritos_sorted[ len( transaction_data_most_popular_doritos_sorted ) - 3 ] )"
   ]
  },
  {
   "cell_type": "code",
   "execution_count": null,
   "metadata": {},
   "outputs": [
    {
     "name": "stdout",
     "output_type": "stream",
     "text": [
      "[(43601, 58, 58324, 54252, 102, 'Kettle Mozzarella   Basil & Pesto 175g', 1, 5.4, 'Kettle Mozzarella   ', 'Basil & Pesto ', 175), 6381]\n",
      "[(43330, 2, 2426, 1038, 108, 'Kettle Tortilla ChpsHny&Jlpno Chili 150g', 3, 13.8, 'Kettle Tortilla Chps', 'Hny&Jlpno Chili ', 150), 6309]\n",
      "[(43605, 83, 83008, 82099, 63, 'Kettle 135g Swt Pot Sea Salt', 2, 8.4, 'Kettle 135g Swt Pot ', 'Sea ', 135), 6212]\n"
     ]
    }
   ],
   "source": [
    "# find most popular kettle chip\n",
    "transaction_data_most_popular_kettle_sorted = find_most_popular( \"Kettle\", transaction_data_most_popular_sorted )\n",
    "print( transaction_data_most_popular_kettle_sorted[ len( transaction_data_most_popular_kettle_sorted ) - 1 ] )\n",
    "print( transaction_data_most_popular_kettle_sorted[ len( transaction_data_most_popular_kettle_sorted ) - 2 ] )\n",
    "print( transaction_data_most_popular_kettle_sorted[ len( transaction_data_most_popular_kettle_sorted ) - 3 ] )"
   ]
  },
  {
   "cell_type": "code",
   "execution_count": null,
   "metadata": {},
   "outputs": [
    {
     "ename": "IndexError",
     "evalue": "list index out of range",
     "output_type": "error",
     "traceback": [
      "\u001b[1;31m---------------------------------------------------------------------------\u001b[0m",
      "\u001b[1;31mIndexError\u001b[0m                                Traceback (most recent call last)",
      "\u001b[1;32mc:\\Users\\darcy\\Documents\\shared\\quantium-data-analytics\\analysis.ipynb Cell 17\u001b[0m in \u001b[0;36m<module>\u001b[1;34m\u001b[0m\n\u001b[0;32m      <a href='vscode-notebook-cell:/c%3A/Users/darcy/Documents/shared/quantium-data-analytics/analysis.ipynb#X22sZmlsZQ%3D%3D?line=0'>1</a>\u001b[0m \u001b[39m# get 3 biggest purchaces and print\u001b[39;00m\n\u001b[0;32m      <a href='vscode-notebook-cell:/c%3A/Users/darcy/Documents/shared/quantium-data-analytics/analysis.ipynb#X22sZmlsZQ%3D%3D?line=1'>2</a>\u001b[0m transaction_data_prod_qty_sort \u001b[39m=\u001b[39m \u001b[39msorted\u001b[39m( transaction_data_zip, key\u001b[39m=\u001b[39m\u001b[39mlambda\u001b[39;00m x: x[ \u001b[39m7\u001b[39m ] )\n\u001b[1;32m----> <a href='vscode-notebook-cell:/c%3A/Users/darcy/Documents/shared/quantium-data-analytics/analysis.ipynb#X22sZmlsZQ%3D%3D?line=2'>3</a>\u001b[0m \u001b[39mprint\u001b[39m( transaction_data_prod_qty_sort[ \u001b[39mlen\u001b[39;49m( transaction_data_prod_qty_sort ) \u001b[39m-\u001b[39;49m \u001b[39m1\u001b[39;49m ] )\n\u001b[0;32m      <a href='vscode-notebook-cell:/c%3A/Users/darcy/Documents/shared/quantium-data-analytics/analysis.ipynb#X22sZmlsZQ%3D%3D?line=3'>4</a>\u001b[0m \u001b[39mprint\u001b[39m( transaction_data_prod_qty_sort[ \u001b[39mlen\u001b[39m( transaction_data_prod_qty_sort ) \u001b[39m-\u001b[39m \u001b[39m2\u001b[39m ] )\n\u001b[0;32m      <a href='vscode-notebook-cell:/c%3A/Users/darcy/Documents/shared/quantium-data-analytics/analysis.ipynb#X22sZmlsZQ%3D%3D?line=4'>5</a>\u001b[0m \u001b[39mprint\u001b[39m( transaction_data_prod_qty_sort[ \u001b[39mlen\u001b[39m( transaction_data_prod_qty_sort ) \u001b[39m-\u001b[39m \u001b[39m3\u001b[39m ] )\n",
      "\u001b[1;31mIndexError\u001b[0m: list index out of range"
     ]
    }
   ],
   "source": [
    "# get 3 biggest purchaces and print\n",
    "transaction_data_prod_qty_sort = sorted( transaction_data_zip, key=lambda x: x[ 7 ] )\n",
    "print( transaction_data_prod_qty_sort[ len( transaction_data_prod_qty_sort ) - 1 ] )\n",
    "print( transaction_data_prod_qty_sort[ len( transaction_data_prod_qty_sort ) - 2 ] )\n",
    "print( transaction_data_prod_qty_sort[ len( transaction_data_prod_qty_sort ) - 3 ] )"
   ]
  },
  {
   "cell_type": "code",
   "execution_count": null,
   "metadata": {},
   "outputs": [
    {
     "data": {
      "text/plain": [
       "Text(0, 0.5, 'product quantity')"
      ]
     },
     "execution_count": 20,
     "metadata": {},
     "output_type": "execute_result"
    },
    {
     "data": {
      "image/png": "[encoded data removed]",
      "text/plain": [
       "<Figure size 432x288 with 1 Axes>"
      ]
     },
     "metadata": {
      "needs_background": "light"
     },
     "output_type": "display_data"
    }
   ],
   "source": [
    "# plot quantity purchaced per store number\n",
    "plt.plot( np.array( transaction_data[ \"store_nbr\" ] ), np.array( transaction_data[ \"prod_qty\" ] ) )\n",
    "plt.xlabel( \"date\" )\n",
    "plt.ylabel( \"product quantity\" )"
   ]
  },
  {
   "cell_type": "code",
   "execution_count": null,
   "metadata": {},
   "outputs": [
    {
     "name": "stdout",
     "output_type": "stream",
     "text": [
      "1.907308674047335\n"
     ]
    }
   ],
   "source": [
    "# find average product quantity\n",
    "avg_prod_qty = 0\n",
    "for i in range( 0, len( transaction_data[ \"prod_qty\" ] ) ):\n",
    "  avg_prod_qty += transaction_data[ \"prod_qty\" ][ i ]\n",
    "avg_prod_qty /= len( transaction_data[ \"prod_qty\" ] )\n",
    "print( avg_prod_qty )"
   ]
  },
  {
   "cell_type": "code",
   "execution_count": null,
   "metadata": {},
   "outputs": [
    {
     "data": {
      "text/plain": [
       "Text(0, 0.5, 'amount')"
      ]
     },
     "execution_count": 24,
     "metadata": {},
     "output_type": "execute_result"
    },
    {
     "data": {
      "image/png": "[encoded data removed]",
      "text/plain": [
       "<Figure size 432x288 with 1 Axes>"
      ]
     },
     "metadata": {
      "needs_background": "light"
     },
     "output_type": "display_data"
    }
   ],
   "source": [
    "# transactions and total product quantiy by date\n",
    "transactions_by_date = [] # 0: date, 1: transactions\n",
    "total_prod_by_date = [] # 0: date, 1: total product\n",
    "for i in transaction_data_zip:\n",
    "  found_in = False\n",
    "  for j in transactions_by_date:\n",
    "    if i[ 0 ] == j[ 0 ]:\n",
    "      j[ 1 ] += 1\n",
    "      found_in = True\n",
    "  if not found_in:\n",
    "    transactions_by_date.append( [ i[ 0 ], 1 ] )\n",
    "  found_in = False\n",
    "  for j in total_prod_by_date:\n",
    "    if i[ 0 ] == j[ 0 ]:\n",
    "      j[ 1 ] += i[ 6 ]\n",
    "      found_in = True\n",
    "  if not found_in:\n",
    "    total_prod_by_date.append( [ i[ 0 ], i[ 6 ] ] )\n",
    "\n",
    "# graph transactions on a daily basis\n",
    "transactions_by_date_sorted = sorted( transactions_by_date, key=lambda x: x[ 0 ] )\n",
    "transaction_dates = []\n",
    "for i in transactions_by_date_sorted:\n",
    "  transaction_dates.append( i[ 0 ] )\n",
    "transaction_amounts = []\n",
    "for i in transactions_by_date_sorted:\n",
    "  transaction_amounts.append( i[ 1 ] )\n",
    "plt.plot( np.array( transaction_dates ), np.array( transaction_amounts ), label=\"transactions\" )\n",
    "\n",
    "# graph total products sold on a daily basis\n",
    "total_prod_by_date_sorted = sorted( total_prod_by_date, key=lambda x: x[ 0 ] )\n",
    "total_prod_amounts = []\n",
    "for i in total_prod_by_date_sorted:\n",
    "  total_prod_amounts.append( i[ 1 ] )\n",
    "plt.plot( np.array( transaction_dates ), np.array( total_prod_amounts ), label=\"total product\" )\n",
    "\n",
    "# legend for plot\n",
    "plt.legend( loc=\"upper left\" )\n",
    "plt.xlabel( \"date\" )\n",
    "plt.ylabel( \"amount\" )"
   ]
  },
  {
   "cell_type": "code",
   "execution_count": null,
   "metadata": {},
   "outputs": [],
   "source": [
    "# get most popular with certian groups of people\n",
    "# tdz is transaction_data_zip, pbz is purchace_behavior_zip, lifestage is lifestage from purchace behavior\n",
    "def most_popular_with_group( tdz, pbz, lifestage ):\n",
    "  most_popular = []\n",
    "  purchase_behavior_group = []\n",
    "  transaction_data_group = []\n",
    "  for i in pbz:\n",
    "    if i[ 1 ] == lifestage:\n",
    "      purchase_behavior_group.append( i )\n",
    "  for i in purchase_behavior_group:\n",
    "    for j in tdz:  \n",
    "      if j[ 2 ] == i[ 0 ]: # loyalty card number match\n",
    "        transaction_data_group.append( j )\n",
    "  for i in range( 0, len( transaction_data_group ) ):\n",
    "    found_in = False\n",
    "    for j in most_popular:\n",
    "      if transaction_data_group[ i ][ 4 ] == j[ 0 ][ 4 ]: # if product number match found\n",
    "        j[ 1 ] += transaction_data_group[ i ][ 6 ] # add quantity\n",
    "        found_in = True\n",
    "    if not found_in:\n",
    "      most_popular.append( [ transaction_data_group[ i ], transaction_data_group[ i ][ 6 ] ] )\n",
    "  most_popular_sorted = sorted( most_popular, key=lambda x: x[ 1 ] )\n",
    "  return most_popular_sorted"
   ]
  },
  {
   "cell_type": "code",
   "execution_count": null,
   "metadata": {},
   "outputs": [
    {
     "name": "stdout",
     "output_type": "stream",
     "text": [
      "1\n",
      "[(43390, 1, 1000, 1, 5, 'Natural Chip        Compny SeaSalt175g', 2, 6, 'Natural Chip        ', 'Compny SeaSalt', 175), 2]\n",
      "[(43390, 1, 1000, 1, 5, 'Natural Chip        Compny SeaSalt175g', 2, 6, 'Natural Chip        ', 'Compny SeaSalt', 175), 2]\n"
     ]
    }
   ],
   "source": [
    "# find top 3 most popular with young singles\n",
    "most_popular_with_young_singles = most_popular_with_group( transaction_data_zip, purchase_behavior_zip, \"YOUNG SINGLES/COUPLES\" )\n",
    "print( len( most_popular_with_young_singles ) )\n",
    "print( most_popular_with_young_singles[ len( most_popular_with_young_singles ) - 1 ] )\n",
    "print( most_popular_with_young_singles[ len( most_popular_with_young_singles ) - 2 ] )"
   ]
  },
  {
   "cell_type": "code",
   "execution_count": null,
   "metadata": {},
   "outputs": [
    {
     "name": "stdout",
     "output_type": "stream",
     "text": [
      "1\n",
      "[(43462, 1, 1005, 6, 86, 'Cheetos Puffs 165g', 1, 2.8, 'Cheetos Puffs 165g', '', 165), 1]\n",
      "[(43462, 1, 1005, 6, 86, 'Cheetos Puffs 165g', 1, 2.8, 'Cheetos Puffs 165g', '', 165), 1]\n"
     ]
    }
   ],
   "source": [
    "# find top 3 most popular with midage singles couples\n",
    "most_popular_with_midage_singles = most_popular_with_group( transaction_data_zip, purchase_behavior_zip, \"MIDAGE SINGLES/COUPLES\" )\n",
    "print( len( most_popular_with_midage_singles ) )\n",
    "print( most_popular_with_midage_singles[ len( most_popular_with_midage_singles ) - 1 ] )\n",
    "print( most_popular_with_midage_singles[ len( most_popular_with_midage_singles ) - 2 ] )"
   ]
  },
  {
   "cell_type": "code",
   "execution_count": null,
   "metadata": {},
   "outputs": [
    {
     "name": "stdout",
     "output_type": "stream",
     "text": [
      "14609\n",
      "1\n",
      "1\n",
      "[(43406, 1, 1004, 5, 96, 'WW Original Stacked Chips 160g', 1, 1.9, 'WW Original Stacked ', 'Chips ', 160), 1]\n",
      "[(43406, 1, 1004, 5, 96, 'WW Original Stacked Chips 160g', 1, 1.9, 'WW Original Stacked ', 'Chips ', 160), 1]\n"
     ]
    },
    {
     "ename": "IndexError",
     "evalue": "list index out of range",
     "output_type": "error",
     "traceback": [
      "\u001b[0;31m---------------------------------------------------------------------------\u001b[0m",
      "\u001b[0;31mIndexError\u001b[0m                                Traceback (most recent call last)",
      "\u001b[1;32m/home/kero/Documents/shared/quantium-data-analytics/analysis.ipynb Cell 23'\u001b[0m in \u001b[0;36m<cell line: 6>\u001b[0;34m()\u001b[0m\n\u001b[1;32m      <a href='vscode-notebook-cell:/home/kero/Documents/shared/quantium-data-analytics/analysis.ipynb#ch0000023?line=3'>4</a>\u001b[0m \u001b[39mprint\u001b[39m( most_popular_with_young_singles[ \u001b[39mlen\u001b[39m( most_popular_with_young_singles ) \u001b[39m-\u001b[39m \u001b[39m1\u001b[39m ] )\n\u001b[1;32m      <a href='vscode-notebook-cell:/home/kero/Documents/shared/quantium-data-analytics/analysis.ipynb#ch0000023?line=4'>5</a>\u001b[0m \u001b[39mprint\u001b[39m( most_popular_with_young_singles[ \u001b[39mlen\u001b[39m( most_popular_with_young_singles ) \u001b[39m-\u001b[39m \u001b[39m2\u001b[39m ] )\n\u001b[0;32m----> <a href='vscode-notebook-cell:/home/kero/Documents/shared/quantium-data-analytics/analysis.ipynb#ch0000023?line=5'>6</a>\u001b[0m \u001b[39mprint\u001b[39m( most_popular_with_young_singles[ \u001b[39mlen\u001b[39;49m( most_popular_with_young_singles ) \u001b[39m-\u001b[39;49m \u001b[39m3\u001b[39;49m ] )\n",
      "\u001b[0;31mIndexError\u001b[0m: list index out of range"
     ]
    }
   ],
   "source": [
    "# find top 3 most popular with older singles couples\n",
    "most_popular_with_older_singles = most_popular_with_group( transaction_data_zip, purchase_behavior_zip, \"OLDER SINGLES/COUPLES\" )\n",
    "print( len( most_popular_with_older_singles ) )\n",
    "print( most_popular_with_older_singles[ len( most_popular_with_older_singles ) - 1 ] )\n",
    "print( most_popular_with_older_singles[ len( most_popular_with_older_singles ) - 2 ] )\n",
    "print( most_popular_with_older_singles[ len( most_popular_with_older_singles ) - 3 ] )"
   ]
  },
  {
   "cell_type": "code",
   "execution_count": null,
   "metadata": {},
   "outputs": [
    {
     "name": "stdout",
     "output_type": "stream",
     "text": [
      "9178\n",
      "2\n",
      "2\n",
      "[(43532, 1, 1003, 4, 106, 'Natural ChipCo      Hony Soy Chckn175g', 1, 3, 'Natural ChipCo      ', 'Hony Soy Chckn', 175), 1]\n",
      "[(43531, 1, 1003, 3, 52, 'Grain Waves Sour    Cream&Chives 210G', 1, 3.6, 'Grain Waves Sour    ', 'Cream&Chives ', 0), 1]\n",
      "[(43532, 1, 1003, 4, 106, 'Natural ChipCo      Hony Soy Chckn175g', 1, 3, 'Natural ChipCo      ', 'Hony Soy Chckn', 175), 1]\n"
     ]
    }
   ],
   "source": [
    "# find top 3 most popular with young families\n",
    "most_popular_with_young_families = most_popular_with_group( transaction_data_zip, purchase_behavior_zip, \"YOUNG FAMILIES\" )\n",
    "print( len( most_popular_with_young_families ) )\n",
    "print( most_popular_with_young_families[ len( most_popular_with_young_families ) - 1 ] )\n",
    "print( most_popular_with_young_families[ len( most_popular_with_young_families ) - 2 ] )\n",
    "print( most_popular_with_young_families[ len( most_popular_with_young_families ) - 3 ] )"
   ]
  },
  {
   "cell_type": "code",
   "execution_count": null,
   "metadata": {},
   "outputs": [
    {
     "name": "stdout",
     "output_type": "stream",
     "text": [
      "2\n",
      "[(43635, 1, 1012, 17, 3, 'Kettle Sensations   Camembert & Fig 150g', 1, 4.6, 'Kettle Sensations   ', 'Camembert & Fig ', 150), 1]\n",
      "[(43539, 1, 1012, 16, 20, 'Doritos Cheese      Supreme 330g', 1, 5.7, 'Doritos Cheese      ', 'Supreme ', 330), 1]\n",
      "[(43635, 1, 1012, 17, 3, 'Kettle Sensations   Camembert & Fig 150g', 1, 4.6, 'Kettle Sensations   ', 'Camembert & Fig ', 150), 1]\n"
     ]
    }
   ],
   "source": [
    "# find top 3 most popular with older families\n",
    "most_popular_with_older_families = most_popular_with_group( transaction_data_zip, purchase_behavior_zip, \"OLDER FAMILIES\" )\n",
    "print( len( most_popular_with_older_families ) )\n",
    "print( most_popular_with_older_families[ len( most_popular_with_older_families ) - 1 ] )\n",
    "print( most_popular_with_older_families[ len( most_popular_with_older_families ) - 2 ] )\n",
    "print( most_popular_with_older_families[ len( most_popular_with_older_families ) - 3 ] )"
   ]
  },
  {
   "cell_type": "code",
   "execution_count": null,
   "metadata": {},
   "outputs": [
    {
     "data": {
      "text/plain": [
       "<BarContainer object of 7 artists>"
      ]
     },
     "execution_count": 60,
     "metadata": {},
     "output_type": "execute_result"
    },
    {
     "data": {
      "image/png": "[encoded data removed]",
      "text/plain": [
       "<Figure size 1800x720 with 1 Axes>"
      ]
     },
     "metadata": {
      "needs_background": "light"
     },
     "output_type": "display_data"
    }
   ],
   "source": [
    "# count customers by lifestage\n",
    "count_customers_by_lifestage = {}\n",
    "for i in purchase_behavior_zip:\n",
    "  if i[ 1 ] in count_customers_by_lifestage: # if has lifestage\n",
    "    count_customers_by_lifestage[ i[ 1 ] ] += 1\n",
    "  else:\n",
    "    count_customers_by_lifestage[ i[ 1 ] ] = 1\n",
    "plt.figure( figsize=(25, 10) )\n",
    "plt.bar( count_customers_by_lifestage.keys(), count_customers_by_lifestage.values(), align='edge', width=0.3 )"
   ]
  },
  {
   "cell_type": "code",
   "execution_count": 49,
   "metadata": {},
   "outputs": [
    {
     "data": {
      "text/plain": [
       "<BarContainer object of 7 artists>"
      ]
     },
     "execution_count": 49,
     "metadata": {},
     "output_type": "execute_result"
    },
    {
     "data": {
      "image/png": "[encoded data removed]",
      "text/plain": [
       "<Figure size 1800x720 with 1 Axes>"
      ]
     },
     "metadata": {
      "needs_background": "light"
     },
     "output_type": "display_data"
    }
   ],
   "source": [
    "# count chips bought by lifestage\n",
    "product_quantity_customers_by_lifestage = {}\n",
    "for i in purchase_behavior_zip:\n",
    "  if not i[ 1 ] in product_quantity_customers_by_lifestage: # if has lifestage\n",
    "    product_quantity_customers_by_lifestage[ i[ 1 ] ] = 0\n",
    "  tdz_deepcopy = copy.deepcopy( transaction_data_zip )\n",
    "  for j in tdz_deepcopy:\n",
    "    if i[ 0 ] == j[ 2 ]: # if loyalty card number maches\n",
    "      product_quantity_customers_by_lifestage[ i[ 1 ] ] += j[ 6 ] # add product quantity\n",
    "plt.figure( figsize=(25, 10) )\n",
    "plt.bar( product_quantity_customers_by_lifestage.keys(), product_quantity_customers_by_lifestage.values(), align='edge', width=0.3 )"
   ]
  },
  {
   "cell_type": "code",
   "execution_count": 64,
   "metadata": {},
   "outputs": [
    {
     "data": {
      "text/plain": [
       "<BarContainer object of 7 artists>"
      ]
     },
     "execution_count": 64,
     "metadata": {},
     "output_type": "execute_result"
    },
    {
     "data": {
      "image/png": "[encoded data removed]",
      "text/plain": [
       "<Figure size 1800x720 with 1 Axes>"
      ]
     },
     "metadata": {
      "needs_background": "light"
     },
     "output_type": "display_data"
    }
   ],
   "source": [
    "# average chip price by lifestage\n",
    "average_chip_price_by_lifestage = {}\n",
    "number_chip_price_by_lifestage = {}\n",
    "for i in purchase_behavior_zip:\n",
    "  if not i[ 1 ] in average_chip_price_by_lifestage:\n",
    "    average_chip_price_by_lifestage[ i[ 1 ] ] = 0\n",
    "    number_chip_price_by_lifestage[ i[ 1 ] ] = 0\n",
    "  tdz_deepcopy = copy.deepcopy( transaction_data_zip )\n",
    "  for j in tdz_deepcopy:\n",
    "    if i[ 0 ] == j[ 2 ]:\n",
    "      average_chip_price_by_lifestage[ i[ 1 ] ] += j[ 7 ]\n",
    "      number_chip_price_by_lifestage[ i[ 1 ] ] += 1\n",
    "for key in average_chip_price_by_lifestage.keys():\n",
    "  average_chip_price_by_lifestage[ key ] /= number_chip_price_by_lifestage[ key ]\n",
    "\n",
    "plt.figure( figsize=( 25, 10 ) )\n",
    "plt.bar( average_chip_price_by_lifestage.keys(), average_chip_price_by_lifestage.values(), align='edge', width=0.3  )"
   ]
  },
  {
   "cell_type": "code",
   "execution_count": 56,
   "metadata": {},
   "outputs": [
    {
     "data": {
      "text/plain": [
       "<BarContainer object of 3 artists>"
      ]
     },
     "execution_count": 56,
     "metadata": {},
     "output_type": "execute_result"
    },
    {
     "data": {
      "image/png": "[encoded data removed]",
      "text/plain": [
       "<Figure size 1800x720 with 1 Axes>"
      ]
     },
     "metadata": {
      "needs_background": "light"
     },
     "output_type": "display_data"
    }
   ],
   "source": [
    "# number of coustomers by loyalty type (premium, mainstream, budget)\n",
    "count_customers_by_premium = {}\n",
    "for i in purchase_behavior_zip:\n",
    "  if not i[ 2 ] in count_customers_by_premium:\n",
    "    count_customers_by_premium[ i[ 2 ] ] = 0\n",
    "  count_customers_by_premium[ i[ 2 ] ] += 1\n",
    "\n",
    "plt.figure( figsize=( 25, 10 ) )\n",
    "plt.bar( count_customers_by_premium.keys(), count_customers_by_premium.values(), align=\"edge\", width=0.3 )"
   ]
  },
  {
   "cell_type": "code",
   "execution_count": 68,
   "metadata": {},
   "outputs": [
    {
     "data": {
      "text/plain": [
       "<BarContainer object of 3 artists>"
      ]
     },
     "execution_count": 68,
     "metadata": {},
     "output_type": "execute_result"
    },
    {
     "data": {
      "image/png": "[encoded data removed]",
      "text/plain": [
       "<Figure size 1800x720 with 1 Axes>"
      ]
     },
     "metadata": {
      "needs_background": "light"
     },
     "output_type": "display_data"
    }
   ],
   "source": [
    "# quantity of product by premium customer type\n",
    "product_quantity_customers_by_premium = {}\n",
    "for i in purchase_behavior_zip:\n",
    "  if not i[ 2 ] in product_quantity_customers_by_premium:\n",
    "    product_quantity_customers_by_premium[ i[ 2 ] ] = 0\n",
    "  tdz_deepcopy = copy.deepcopy( transaction_data_zip )\n",
    "  for j in tdz_deepcopy:\n",
    "    if i[ 0 ] == j[ 2 ]:\n",
    "      product_quantity_customers_by_premium[ i[ 2 ] ] += j[ 6 ]\n",
    "plt.figure( figsize=( 25, 10 ) )\n",
    "plt.bar( product_quantity_customers_by_premium.keys(), product_quantity_customers_by_premium.values(), align=\"edge\", width=0.3 )"
   ]
  },
  {
   "cell_type": "code",
   "execution_count": 69,
   "metadata": {},
   "outputs": [],
   "source": [
    "# get most popular products by customer lifestage\n",
    "def get_most_popular_with_premium( premium_status ):\n",
    "  transaction_data_most_popular_with_premium = []\n",
    "  for i in purchase_behavior_zip:\n",
    "    tdz_deepcopy = copy.deepcopy( transaction_data_zip )\n",
    "    for j in tdz_deepcopy:\n",
    "      if i[ 2 ] == premium_status and i[ 0 ] == j[ 2 ]:\n",
    "        found_in = False\n",
    "        for k in transaction_data_most_popular_with_premium:\n",
    "          if k[ 0 ][ 4 ] == j[ 4 ]:\n",
    "            found_in = True\n",
    "            k[ 1 ] += 1\n",
    "        if not found_in:\n",
    "          transaction_data_most_popular_with_premium.append( [ j, 1 ] )\n",
    "  transaction_data_most_popular_with_premium_sorted = sorted( transaction_data_most_popular_with_premium, key=lambda x: x[ 1 ] )\n",
    "  return transaction_data_most_popular_with_premium_sorted"
   ]
  },
  {
   "cell_type": "code",
   "execution_count": 76,
   "metadata": {},
   "outputs": [],
   "source": [
    "# find most popular with premium\n",
    "most_popular_with_premium = get_most_popular_with_premium( \"Premium\" )\n",
    "print( most_popular_with_premium[ len( most_popular_with_premium ) - 1 ] )\n",
    "print( most_popular_with_premium[ len( most_popular_with_premium ) - 2 ] )\n",
    "print( most_popular_with_premium[ len( most_popular_with_premium ) - 3 ] )"
   ]
  },
  {
   "cell_type": "code",
   "execution_count": null,
   "metadata": {},
   "outputs": [],
   "source": [
    "# find most popular with mainstream\n",
    "most_popular_with_mainstream = get_most_popular_with_premium( \"Mainstream\" )\n",
    "print( most_popular_with_mainstream[ len( most_popular_with_mainstream ) - 1 ] )\n",
    "print( most_popular_with_mainstream[ len( most_popular_with_mainstream ) - 2 ] )\n",
    "print( most_popular_with_mainstream[ len( most_popular_with_mainstream ) - 3 ] )"
   ]
  },
  {
   "cell_type": "code",
   "execution_count": null,
   "metadata": {},
   "outputs": [],
   "source": [
    "# find most popular with budget\n",
    "most_popular_with_budget = get_most_popular_with_premium( \"Budget\" )\n",
    "print( most_popular_with_budget[ len( most_popular_with_budget ) - 1 ] )\n",
    "print( most_popular_with_budget[ len( most_popular_with_budget ) - 2 ] ) \n",
    "print( most_popular_with_budget[ len( most_popular_with_budget ) - 3 ] )"
   ]
  },
  {
   "cell_type": "code",
   "execution_count": 73,
   "metadata": {},
   "outputs": [
    {
     "data": {
      "text/plain": [
       "<BarContainer object of 7 artists>"
      ]
     },
     "execution_count": 73,
     "metadata": {},
     "output_type": "execute_result"
    },
    {
     "data": {
      "image/png": "[encoded data removed]",
      "text/plain": [
       "<Figure size 1800x720 with 1 Axes>"
      ]
     },
     "metadata": {
      "needs_background": "light"
     },
     "output_type": "display_data"
    }
   ],
   "source": [
    "# number of customers by lifestages\n",
    "number_of_customers_by_lifestage = {}\n",
    "for i in purchase_behavior_zip:\n",
    "  if not i[ 1 ] in number_of_customers_by_lifestage:\n",
    "    number_of_customers_by_lifestage[ i[ 1 ] ] = 1\n",
    "  else:\n",
    "    number_of_customers_by_lifestage[ i[ 1 ] ] += 1\n",
    "plt.figure( figsize=( 25, 10 ) )\n",
    "plt.bar( number_of_customers_by_lifestage.keys(), number_of_customers_by_lifestage.values(), 0.3, align=\"edge\" )"
   ]
  }
 ],
 "metadata": {
  "kernelspec": {
   "display_name": "Python 3.9.8 64-bit",
   "language": "python",
   "name": "python3"
  },
  "language_info": {
   "codemirror_mode": {
    "name": "ipython",
    "version": 3
   },
   "file_extension": ".py",
   "mimetype": "text/x-python",
   "name": "python",
   "nbconvert_exporter": "python",
   "pygments_lexer": "ipython3",
   "version": "3.9.8"
  },
  "orig_nbformat": 4,
  "vscode": {
   "interpreter": {
    "hash": "11938c6bc6919ae2720b4d5011047913343b08a43b18698fd82dedb0d4417594"
   }
  }
 },
 "nbformat": 4,
 "nbformat_minor": 2
}
